{
  "nbformat": 4,
  "nbformat_minor": 0,
  "metadata": {
    "colab": {
      "provenance": [],
      "collapsed_sections": [
        "LBNuO5ho_UVh",
        "TiIMR3l-_nKL"
      ]
    },
    "kernelspec": {
      "name": "python3",
      "display_name": "Python 3"
    },
    "language_info": {
      "name": "python"
    }
  },
  "cells": [
    {
      "cell_type": "markdown",
      "source": [
        "# **Dependencies**\n",
        "------\n",
        "\n"
      ],
      "metadata": {
        "id": "LBNuO5ho_UVh"
      }
    },
    {
      "cell_type": "code",
      "execution_count": 213,
      "metadata": {
        "colab": {
          "base_uri": "https://localhost:8080/"
        },
        "id": "0IR2aFjI29vl",
        "outputId": "055b22f3-7194-4561-8626-edad077860e6"
      },
      "outputs": [
        {
          "output_type": "stream",
          "name": "stdout",
          "text": [
            "Looking in indexes: https://pypi.org/simple, https://us-python.pkg.dev/colab-wheels/public/simple/\n",
            "Requirement already satisfied: pytube in /usr/local/lib/python3.8/dist-packages (12.1.2)\n",
            "Looking in indexes: https://pypi.org/simple, https://us-python.pkg.dev/colab-wheels/public/simple/\n",
            "Requirement already satisfied: pandas in /usr/local/lib/python3.8/dist-packages (1.3.5)\n",
            "Requirement already satisfied: numpy>=1.17.3 in /usr/local/lib/python3.8/dist-packages (from pandas) (1.21.6)\n",
            "Requirement already satisfied: pytz>=2017.3 in /usr/local/lib/python3.8/dist-packages (from pandas) (2022.6)\n",
            "Requirement already satisfied: python-dateutil>=2.7.3 in /usr/local/lib/python3.8/dist-packages (from pandas) (2.8.2)\n",
            "Requirement already satisfied: six>=1.5 in /usr/local/lib/python3.8/dist-packages (from python-dateutil>=2.7.3->pandas) (1.15.0)\n"
          ]
        }
      ],
      "source": [
        "!pip install pytube\n",
        "!pip install pandas"
      ]
    },
    {
      "cell_type": "code",
      "source": [
        "from pytube import YouTube\n",
        "import pandas as pd"
      ],
      "metadata": {
        "id": "7rm296bZARPV"
      },
      "execution_count": 214,
      "outputs": []
    },
    {
      "cell_type": "markdown",
      "source": [
        "## **Initialize Commands**\n",
        "\n",
        "---\n",
        "\n"
      ],
      "metadata": {
        "id": "TiIMR3l-_nKL"
      }
    },
    {
      "cell_type": "code",
      "source": [
        "def download(a:str):\n",
        "    url = YouTube(a)\n",
        "    video = url.streams.first()\n",
        "    video.download() "
      ],
      "metadata": {
        "id": "qruY2g-l3AaR"
      },
      "execution_count": 226,
      "outputs": []
    },
    {
      "cell_type": "code",
      "source": [
        "def Possible_quality(link:str):\n",
        "  url = YouTube(link)\n",
        "  video=url.streams.filter(progressive=True)\n",
        "  return video"
      ],
      "metadata": {
        "id": "z_NpyXwW5h9X"
      },
      "execution_count": 227,
      "outputs": []
    },
    {
      "cell_type": "code",
      "source": [
        "def get_highest(link:str):\n",
        "    url = YouTube(link)\n",
        "    video = url.streams.get_highest_resolution()\n",
        "    video.download() "
      ],
      "metadata": {
        "id": "8ZA3AQTnVD7Z"
      },
      "execution_count": 228,
      "outputs": []
    },
    {
      "cell_type": "code",
      "source": [
        "def get_lowest(link:str):\n",
        "    url = YouTube(link)\n",
        "    video = url.streams.get_lowest_resolution() \n",
        "    video.download() "
      ],
      "metadata": {
        "id": "-vUKQ_T7WR9z"
      },
      "execution_count": 229,
      "outputs": []
    },
    {
      "cell_type": "code",
      "source": [
        "def Generator(d:list):\n",
        "  res=[]\n",
        "  fps=[]\n",
        "  typ=[]\n",
        "  size=[]\n",
        "  mim=[]\n",
        "  main=dict()\n",
        "  for i in d:\n",
        "    res.append(i.resolution)\n",
        "    try:\n",
        "      fps.append(int(i.fps))\n",
        "    except:\n",
        "      fps.append(0)\n",
        "    typ.append(i.type)\n",
        "    size.append(int(i.filesize_mb*10)/10)\n",
        "    mim.append(str(i.mime_type).split(\"/\")[1])\n",
        "  main={\n",
        "      \"Resolution\": res,\n",
        "      \"FPS\":fps,\n",
        "      \"Size (Mb) \":size,\n",
        "      \"Type\":typ,\n",
        "      \"Mim Type\":mim\n",
        "  }\n",
        "  return main\n",
        "\n"
      ],
      "metadata": {
        "id": "QTO1wnAmEKYE"
      },
      "execution_count": 230,
      "outputs": []
    },
    {
      "cell_type": "code",
      "source": [
        "d=[]\n",
        "def main_data(link:str):\n",
        "  d=Possible_quality(link)\n",
        "  k=Generator(d)\n",
        "  frame=pd.DataFrame(k)\n",
        "  frame.index=frame.index+1\n",
        "  frame[\"FPS\"]=frame.FPS.apply(lambda x: int(x))\n",
        "  the_d=d\n",
        "  return(frame,d)"
      ],
      "metadata": {
        "id": "063b9ckSLJCI"
      },
      "execution_count": 231,
      "outputs": []
    },
    {
      "cell_type": "code",
      "source": [
        "def save(i,d,filename=\"Video\"):\n",
        "  d[i-1].download(filename=filename)\n"
      ],
      "metadata": {
        "id": "wZaOCl_26qwR"
      },
      "execution_count": 232,
      "outputs": []
    },
    {
      "cell_type": "markdown",
      "source": [
        "# **Main Part**"
      ],
      "metadata": {
        "id": "QIAJomTCNEVX"
      }
    },
    {
      "cell_type": "code",
      "source": [
        "link=(\"https://www.youtube.com/watch?v=KCioI0tosUo\")"
      ],
      "metadata": {
        "id": "7qpKp_xFNTjN"
      },
      "execution_count": 233,
      "outputs": []
    },
    {
      "cell_type": "code",
      "source": [
        "#Get highest quality\n",
        "\n",
        "get_highest(link)"
      ],
      "metadata": {
        "id": "kf9hsFpJViaC"
      },
      "execution_count": 222,
      "outputs": []
    },
    {
      "cell_type": "code",
      "source": [
        "#Get lowest quality\n",
        "\n",
        "get_lowest(link)"
      ],
      "metadata": {
        "id": "Qw8w_O1uWnDk"
      },
      "execution_count": null,
      "outputs": []
    },
    {
      "cell_type": "code",
      "source": [
        "#Show All Data\n",
        "s=main_data(link)\n",
        "s[0]"
      ],
      "metadata": {
        "colab": {
          "base_uri": "https://localhost:8080/",
          "height": 143
        },
        "id": "rMskgQcwPAmV",
        "outputId": "7e7e1905-ccfc-49d4-f3b6-73862b30e83a"
      },
      "execution_count": 234,
      "outputs": [
        {
          "output_type": "execute_result",
          "data": {
            "text/plain": [
              "  Resolution  FPS  Size (Mb)    Type Mim Type\n",
              "1       144p    8         0.2  video     3gpp\n",
              "2       360p   30         1.3  video      mp4\n",
              "3       720p   30         2.6  video      mp4"
            ],
            "text/html": [
              "\n",
              "  <div id=\"df-c3ef1d75-fe63-4ab9-bf7d-cf39171270c6\">\n",
              "    <div class=\"colab-df-container\">\n",
              "      <div>\n",
              "<style scoped>\n",
              "    .dataframe tbody tr th:only-of-type {\n",
              "        vertical-align: middle;\n",
              "    }\n",
              "\n",
              "    .dataframe tbody tr th {\n",
              "        vertical-align: top;\n",
              "    }\n",
              "\n",
              "    .dataframe thead th {\n",
              "        text-align: right;\n",
              "    }\n",
              "</style>\n",
              "<table border=\"1\" class=\"dataframe\">\n",
              "  <thead>\n",
              "    <tr style=\"text-align: right;\">\n",
              "      <th></th>\n",
              "      <th>Resolution</th>\n",
              "      <th>FPS</th>\n",
              "      <th>Size (Mb)</th>\n",
              "      <th>Type</th>\n",
              "      <th>Mim Type</th>\n",
              "    </tr>\n",
              "  </thead>\n",
              "  <tbody>\n",
              "    <tr>\n",
              "      <th>1</th>\n",
              "      <td>144p</td>\n",
              "      <td>8</td>\n",
              "      <td>0.2</td>\n",
              "      <td>video</td>\n",
              "      <td>3gpp</td>\n",
              "    </tr>\n",
              "    <tr>\n",
              "      <th>2</th>\n",
              "      <td>360p</td>\n",
              "      <td>30</td>\n",
              "      <td>1.3</td>\n",
              "      <td>video</td>\n",
              "      <td>mp4</td>\n",
              "    </tr>\n",
              "    <tr>\n",
              "      <th>3</th>\n",
              "      <td>720p</td>\n",
              "      <td>30</td>\n",
              "      <td>2.6</td>\n",
              "      <td>video</td>\n",
              "      <td>mp4</td>\n",
              "    </tr>\n",
              "  </tbody>\n",
              "</table>\n",
              "</div>\n",
              "      <button class=\"colab-df-convert\" onclick=\"convertToInteractive('df-c3ef1d75-fe63-4ab9-bf7d-cf39171270c6')\"\n",
              "              title=\"Convert this dataframe to an interactive table.\"\n",
              "              style=\"display:none;\">\n",
              "        \n",
              "  <svg xmlns=\"http://www.w3.org/2000/svg\" height=\"24px\"viewBox=\"0 0 24 24\"\n",
              "       width=\"24px\">\n",
              "    <path d=\"M0 0h24v24H0V0z\" fill=\"none\"/>\n",
              "    <path d=\"M18.56 5.44l.94 2.06.94-2.06 2.06-.94-2.06-.94-.94-2.06-.94 2.06-2.06.94zm-11 1L8.5 8.5l.94-2.06 2.06-.94-2.06-.94L8.5 2.5l-.94 2.06-2.06.94zm10 10l.94 2.06.94-2.06 2.06-.94-2.06-.94-.94-2.06-.94 2.06-2.06.94z\"/><path d=\"M17.41 7.96l-1.37-1.37c-.4-.4-.92-.59-1.43-.59-.52 0-1.04.2-1.43.59L10.3 9.45l-7.72 7.72c-.78.78-.78 2.05 0 2.83L4 21.41c.39.39.9.59 1.41.59.51 0 1.02-.2 1.41-.59l7.78-7.78 2.81-2.81c.8-.78.8-2.07 0-2.86zM5.41 20L4 18.59l7.72-7.72 1.47 1.35L5.41 20z\"/>\n",
              "  </svg>\n",
              "      </button>\n",
              "      \n",
              "  <style>\n",
              "    .colab-df-container {\n",
              "      display:flex;\n",
              "      flex-wrap:wrap;\n",
              "      gap: 12px;\n",
              "    }\n",
              "\n",
              "    .colab-df-convert {\n",
              "      background-color: #E8F0FE;\n",
              "      border: none;\n",
              "      border-radius: 50%;\n",
              "      cursor: pointer;\n",
              "      display: none;\n",
              "      fill: #1967D2;\n",
              "      height: 32px;\n",
              "      padding: 0 0 0 0;\n",
              "      width: 32px;\n",
              "    }\n",
              "\n",
              "    .colab-df-convert:hover {\n",
              "      background-color: #E2EBFA;\n",
              "      box-shadow: 0px 1px 2px rgba(60, 64, 67, 0.3), 0px 1px 3px 1px rgba(60, 64, 67, 0.15);\n",
              "      fill: #174EA6;\n",
              "    }\n",
              "\n",
              "    [theme=dark] .colab-df-convert {\n",
              "      background-color: #3B4455;\n",
              "      fill: #D2E3FC;\n",
              "    }\n",
              "\n",
              "    [theme=dark] .colab-df-convert:hover {\n",
              "      background-color: #434B5C;\n",
              "      box-shadow: 0px 1px 3px 1px rgba(0, 0, 0, 0.15);\n",
              "      filter: drop-shadow(0px 1px 2px rgba(0, 0, 0, 0.3));\n",
              "      fill: #FFFFFF;\n",
              "    }\n",
              "  </style>\n",
              "\n",
              "      <script>\n",
              "        const buttonEl =\n",
              "          document.querySelector('#df-c3ef1d75-fe63-4ab9-bf7d-cf39171270c6 button.colab-df-convert');\n",
              "        buttonEl.style.display =\n",
              "          google.colab.kernel.accessAllowed ? 'block' : 'none';\n",
              "\n",
              "        async function convertToInteractive(key) {\n",
              "          const element = document.querySelector('#df-c3ef1d75-fe63-4ab9-bf7d-cf39171270c6');\n",
              "          const dataTable =\n",
              "            await google.colab.kernel.invokeFunction('convertToInteractive',\n",
              "                                                     [key], {});\n",
              "          if (!dataTable) return;\n",
              "\n",
              "          const docLinkHtml = 'Like what you see? Visit the ' +\n",
              "            '<a target=\"_blank\" href=https://colab.research.google.com/notebooks/data_table.ipynb>data table notebook</a>'\n",
              "            + ' to learn more about interactive tables.';\n",
              "          element.innerHTML = '';\n",
              "          dataTable['output_type'] = 'display_data';\n",
              "          await google.colab.output.renderOutput(dataTable, element);\n",
              "          const docLink = document.createElement('div');\n",
              "          docLink.innerHTML = docLinkHtml;\n",
              "          element.appendChild(docLink);\n",
              "        }\n",
              "      </script>\n",
              "    </div>\n",
              "  </div>\n",
              "  "
            ]
          },
          "metadata": {},
          "execution_count": 234
        }
      ]
    },
    {
      "cell_type": "code",
      "source": [
        "#Save data                      \n",
        "                \n",
        "IndexNo=6                    \n",
        "Filename=\"video1\"             \n",
        "\n",
        "save(IndexNo,s[1],Filename)\n"
      ],
      "metadata": {
        "id": "kFioCpHeR1a_"
      },
      "execution_count": 210,
      "outputs": []
    }
  ]
}